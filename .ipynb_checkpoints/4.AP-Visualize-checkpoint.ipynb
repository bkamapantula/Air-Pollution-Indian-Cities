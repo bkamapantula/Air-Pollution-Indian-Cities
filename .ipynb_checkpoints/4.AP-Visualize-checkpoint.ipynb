{
 "cells": [
  {
   "cell_type": "code",
   "execution_count": 1,
   "metadata": {},
   "outputs": [
    {
     "name": "stderr",
     "output_type": "stream",
     "text": [
      "/home/ec2-user/anaconda3/envs/python3/lib/python3.6/site-packages/pyproj/crs.py:77: FutureWarning: '+init=<authority>:<code>' syntax is deprecated. '<authority>:<code>' is the preferred initialization method.\n",
      "  return _prepare_from_string(\" \".join(pjargs))\n",
      "/home/ec2-user/anaconda3/envs/python3/lib/python3.6/site-packages/pyproj/crs.py:77: FutureWarning: '+init=<authority>:<code>' syntax is deprecated. '<authority>:<code>' is the preferred initialization method.\n",
      "  return _prepare_from_string(\" \".join(pjargs))\n"
     ]
    }
   ],
   "source": [
    "from helper import *"
   ]
  },
  {
   "cell_type": "code",
   "execution_count": 2,
   "metadata": {},
   "outputs": [],
   "source": [
    "chennai_outline = gpd.read_file(\"https://raw.githubusercontent.com/gok03/eo-learn-5p-support/master/chennai.geojson\")\n",
    "delhi_outline = gpd.read_file(\"https://raw.githubusercontent.com/gok03/eo-learn-5p-support/master/delhi.geojson\")\n",
    "hyderbad_outline = gpd.read_file(\"https://raw.githubusercontent.com/gok03/eo-learn-5p-support/master/hyderabad.geojson\")\n",
    "kolkata_outline = gpd.read_file(\"https://raw.githubusercontent.com/gok03/eo-learn-5p-support/master/kolkata.geojson\")\n",
    "mumbai_outline = gpd.read_file(\"https://raw.githubusercontent.com/gok03/eo-learn-5p-support/master/mumbai.geojson\")\n",
    "bangalore_outline = gpd.read_file(\"https://raw.githubusercontent.com/gok03/eo-learn-5p-support/master/bangalore.geojson\")"
   ]
  },
  {
   "cell_type": "code",
   "execution_count": 3,
   "metadata": {},
   "outputs": [],
   "source": [
    "outline_bbox = get_bbox(chennai_outline)"
   ]
  },
  {
   "cell_type": "code",
   "execution_count": 4,
   "metadata": {},
   "outputs": [],
   "source": [
    "patch = {}\n",
    "patch[\"chennai\"] = EOPatch.load(\"patch/patches-chennai-data\")\n",
    "patch[\"delhi\"] = EOPatch.load(\"patch/patches-delhi-data\")\n",
    "patch[\"hyderabad\"] = EOPatch.load(\"patch/patches-hyderabad-data\")\n",
    "patch[\"kolkata\"] = EOPatch.load(\"patch/patches-kolkata-data\")\n",
    "patch[\"mumbai\"] = EOPatch.load(\"patch/patches-mumbai-data\")\n",
    "patch[\"bangalore\"] = EOPatch.load(\"patch/patches-bangalore-data\")"
   ]
  },
  {
   "cell_type": "code",
   "execution_count": 5,
   "metadata": {},
   "outputs": [],
   "source": [
    "components = [\"O3\",\"SO2\", \"NO2\", \"CO\", \"AER_AI_354_388\"]"
   ]
  },
  {
   "cell_type": "code",
   "execution_count": 6,
   "metadata": {},
   "outputs": [],
   "source": [
    "current_city = \"chennai\""
   ]
  },
  {
   "cell_type": "code",
   "execution_count": 7,
   "metadata": {},
   "outputs": [],
   "source": [
    "for i in components:\n",
    "    plot_with_data(patch[current_city],i,outline_bbox,-1,5)"
   ]
  },
  {
   "cell_type": "code",
   "execution_count": null,
   "metadata": {},
   "outputs": [],
   "source": [
    "#create_gif_for_patch(patch[current_city],outline_bbox,current_city)"
   ]
  },
  {
   "cell_type": "code",
   "execution_count": null,
   "metadata": {},
   "outputs": [],
   "source": []
  }
 ],
 "metadata": {
  "kernelspec": {
   "display_name": "conda_python3",
   "language": "python",
   "name": "conda_python3"
  },
  "language_info": {
   "codemirror_mode": {
    "name": "ipython",
    "version": 3
   },
   "file_extension": ".py",
   "mimetype": "text/x-python",
   "name": "python",
   "nbconvert_exporter": "python",
   "pygments_lexer": "ipython3",
   "version": "3.6.5"
  }
 },
 "nbformat": 4,
 "nbformat_minor": 4
}
