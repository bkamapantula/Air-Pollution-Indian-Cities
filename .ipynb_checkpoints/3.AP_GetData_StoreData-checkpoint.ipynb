{
 "cells": [
  {
   "cell_type": "code",
   "execution_count": 8,
   "metadata": {},
   "outputs": [],
   "source": [
    "#!pip install sentinelhub\n",
    "#!pip install geopandas\n",
    "#!sudo pip3 install eo-learn"
   ]
  },
  {
   "cell_type": "code",
   "execution_count": 199,
   "metadata": {},
   "outputs": [],
   "source": [
    "from helper import *"
   ]
  },
  {
   "cell_type": "code",
   "execution_count": 200,
   "metadata": {
    "colab": {},
    "colab_type": "code",
    "id": "4mDSufAYz14g"
   },
   "outputs": [],
   "source": [
    "#input_task = S2L1CWCSInput('1_TRUE_COLOR', resx='50m', resy='50m', maxcc=.5,instance_id=\"f9ffdffa-be54-4758-a111-be29f5331746\")\n",
    "#input_task = S2L1CWCSInput('1_TRUE_COLOR', resx='50m', resy='50m', maxcc=1, instance_id=\"f9ffdffa-be54-4758-a111-be29f5331746\")\n",
    "o3 = S5PL2CWCSInput('O3', resx='1000m', resy='1000m', maxcc=1,instance_id=\"73f6b3e5-903b-4689-a1d1-7fbb6918d811\")\n",
    "so2 = S5PL2CWCSInput('SO2', resx='1000m', resy='1000m', maxcc=0.5,instance_id=\"73f6b3e5-903b-4689-a1d1-7fbb6918d811\")\n",
    "ch4 = S5PL2CWCSInput('CH4', resx='1000m', resy='1000m', maxcc=0.5,instance_id=\"73f6b3e5-903b-4689-a1d1-7fbb6918d811\")\n",
    "no2 = S5PL2CWCSInput('NO2', resx='1000m', resy='1000m', maxcc=0.5,instance_id=\"73f6b3e5-903b-4689-a1d1-7fbb6918d811\")\n",
    "hcho = S5PL2CWCSInput('HCHO', resx='1000m', resy='1000m', maxcc=0.5,instance_id=\"73f6b3e5-903b-4689-a1d1-7fbb6918d811\")\n",
    "co = S5PL2CWCSInput('CO', resx='1000m', resy='1000m', maxcc=0.5,instance_id=\"73f6b3e5-903b-4689-a1d1-7fbb6918d811\")\n",
    "aero = S5PL2CWCSInput('AER_AI_354_388', resx='1000m', resy='1000m', maxcc=0.5,instance_id=\"73f6b3e5-903b-4689-a1d1-7fbb6918d811\")"
   ]
  },
  {
   "cell_type": "code",
   "execution_count": 4,
   "metadata": {
    "colab": {},
    "colab_type": "code",
    "id": "rm-JIXhcz14j"
   },
   "outputs": [],
   "source": [
    "time_interval = ['2019-10-20','2019-11-10']"
   ]
  },
  {
   "cell_type": "code",
   "execution_count": 5,
   "metadata": {
    "colab": {},
    "colab_type": "code",
    "id": "2BfGf211z14n"
   },
   "outputs": [],
   "source": [
    "workflow = LinearWorkflow(o3,so2,ch4,no2,hcho,co,aero)"
   ]
  },
  {
   "cell_type": "code",
   "execution_count": 6,
   "metadata": {
    "colab": {},
    "colab_type": "code",
    "id": "D6sGTHZDz14q"
   },
   "outputs": [],
   "source": [
    "chennai_outline = gpd.read_file(\"https://raw.githubusercontent.com/gok03/eo-learn-5p-support/master/chennai.geojson\")\n",
    "delhi_outline = gpd.read_file(\"https://raw.githubusercontent.com/gok03/eo-learn-5p-support/master/delhi.geojson\")\n",
    "hyderbad_outline = gpd.read_file(\"https://raw.githubusercontent.com/gok03/eo-learn-5p-support/master/hyderabad.geojson\")\n",
    "kolkata_outline = gpd.read_file(\"https://raw.githubusercontent.com/gok03/eo-learn-5p-support/master/kolkata.geojson\")\n",
    "mumbai_outline = gpd.read_file(\"https://raw.githubusercontent.com/gok03/eo-learn-5p-support/master/mumbai.geojson\")\n",
    "bangalore_outline = gpd.read_file(\"https://raw.githubusercontent.com/gok03/eo-learn-5p-support/master/bangalore.geojson\")"
   ]
  },
  {
   "cell_type": "code",
   "execution_count": 7,
   "metadata": {},
   "outputs": [],
   "source": [
    "outline_bbox = get_bbox(delhi_outline)"
   ]
  },
  {
   "cell_type": "code",
   "execution_count": 9,
   "metadata": {},
   "outputs": [],
   "source": [
    "# result = workflow.execute({o3: {'bbox': outline_bbox, 'time_interval': time_interval}})\n",
    "# patch = list(result.values())[-1]\n",
    "# #patch.save('patch/patches-delhi-data', overwrite_permission=OverwritePermission.OVERWRITE_FEATURES)"
   ]
  },
  {
   "cell_type": "code",
   "execution_count": 312,
   "metadata": {},
   "outputs": [],
   "source": [
    "patch = []\n",
    "patch += [EOPatch.load(\"patch/patches-delhi-data\")]\n",
    "patch += [EOPatch.load(\"patch/patches-hyderabad-data\")]\n",
    "patch += [EOPatch.load(\"patch/patches-chennai-data\")]\n",
    "patch += [EOPatch.load(\"patch/patches-bangalore-data\")]\n",
    "patch += [EOPatch.load(\"patch/patches-kolkata-data\")]\n",
    "patch += [EOPatch.load(\"patch/patches-mumbai-data\")]"
   ]
  },
  {
   "cell_type": "code",
   "execution_count": 46,
   "metadata": {},
   "outputs": [],
   "source": [
    "def plot_with_data(patch_data, component, dam_bbox, idx, plot_size):\n",
    "    components_to_color = {\"O3\":[\"Blues\",0,1],\"SO2\":\"Reds\", \"CH4\":\"Greys\", \"NO2\":\"YlOrBr\", \"HCHO\":\"RdPu\", \"CO\":\"Purples\", \"AER_AI_354_388\":\"Greens\"}\n",
    "    ratio = np.abs(patch_data.bbox.max_x - patch_data.bbox.min_x) / np.abs(patch_data.bbox.max_y - patch_data.bbox.min_y)\n",
    "    fig, ax = plt.subplots(figsize=(ratio * plot_size, plot_size))\n",
    "    size = fig.get_size_inches()*fig.dpi\n",
    "    img = Image.fromarray(np.squeeze(patch_data.data[component][idx]), 'F')\n",
    "    img = img.resize((int(size[0]), int(size[1])))   \n",
    "    patch_map = get_map_by_bbox(dam_bbox,int(size[0]), int(size[1]))\n",
    "    patch_map = patch_map.resize((int(size[0]), int(size[1])))\n",
    "    ax.set_title(component +\" ~ \"+ patch_data.timestamp[idx].strftime(\"%d/%m/%Y, %H:%M:%S\"))\n",
    "    ax.imshow(patch_map.convert('RGB'))\n",
    "    im = ax.imshow(img,cmap=components_to_color[component], alpha=0.5)\n",
    "    \n",
    "    cax = fig.add_axes([0.90,0.15,0.02,0.70])\n",
    "    cb = fig.colorbar(im, cax=cax, orientation='vertical')\n",
    "    ax.axis('off')"
   ]
  },
  {
   "cell_type": "code",
   "execution_count": 223,
   "metadata": {},
   "outputs": [],
   "source": [
    "components = [\"O3\",\"SO2\", \"NO2\", \"CO\", \"AER_AI_354_388\"]"
   ]
  },
  {
   "cell_type": "code",
   "execution_count": 207,
   "metadata": {},
   "outputs": [],
   "source": [
    "## Making all the Nan to Min values in the array\n",
    "for i in patch.data:\n",
    "    patch.data[i] = np.nan_to_num(patch.data[i],np.nanmin(patch.data[i]))"
   ]
  },
  {
   "cell_type": "code",
   "execution_count": 218,
   "metadata": {},
   "outputs": [],
   "source": [
    "## mol/m2 to ppm conversion !!Not verified\n",
    "def ppm(mpm2):\n",
    "    return((mpm2) * (8.314*273.15) * 1000000 / 101300)"
   ]
  },
  {
   "cell_type": "code",
   "execution_count": 302,
   "metadata": {},
   "outputs": [],
   "source": []
  },
  {
   "cell_type": "code",
   "execution_count": 268,
   "metadata": {},
   "outputs": [
    {
     "name": "stdout",
     "output_type": "stream",
     "text": [
      "0.0006093325\n",
      "0.00010307087\n",
      "0.0003305963\n",
      "0.0002965223\n",
      "0.00015897719\n"
     ]
    }
   ],
   "source": [
    "for i in range(0,5):\n",
    "    print(patch[i].data[\"NO2\"].max())-0.00051*\t0.0192"
   ]
  },
  {
   "cell_type": "code",
   "execution_count": 272,
   "metadata": {},
   "outputs": [
    {
     "name": "stdout",
     "output_type": "stream",
     "text": [
      "0.000000 : 0.000609\n",
      "-0.000004 : 0.000103\n",
      "-0.000001 : 0.000331\n",
      "-0.000002 : 0.000297\n",
      "-0.000012 : 0.000159\n"
     ]
    }
   ],
   "source": [
    "for i in range(0,5):\n",
    "    print(\"{:f}\".format(patch[i].data[\"NO2\"].min()),\":\",\"{:f}\".format(patch[i].data[\"NO2\"].max()))"
   ]
  },
  {
   "cell_type": "code",
   "execution_count": 303,
   "metadata": {},
   "outputs": [
    {
     "name": "stdout",
     "output_type": "stream",
     "text": [
      "O3 : True , True\n",
      "SO2 : True , True\n",
      "NO2 : True , True\n",
      "CO : True , True\n",
      "AER_AI_354_388 : True , True\n",
      "O3 : True , True\n",
      "SO2 : True , True\n",
      "NO2 : True , True\n",
      "CO : True , True\n",
      "AER_AI_354_388 : True , True\n",
      "O3 : True , True\n",
      "SO2 : True , True\n",
      "NO2 : True , True\n",
      "CO : True , True\n",
      "AER_AI_354_388 : True , True\n",
      "O3 : True , True\n",
      "SO2 : True , True\n",
      "NO2 : True , True\n",
      "CO : True , True\n",
      "AER_AI_354_388 : True , True\n",
      "O3 : True , True\n",
      "SO2 : True , True\n",
      "NO2 : True , True\n",
      "CO : True , True\n",
      "AER_AI_354_388 : True , True\n",
      "O3 : True , True\n",
      "SO2 : True , True\n",
      "NO2 : True , True\n",
      "CO : True , True\n",
      "AER_AI_354_388 : True , True\n"
     ]
    }
   ],
   "source": [
    "## To Verify if satellite values are in range\n",
    "for i in range(len(patch)):\n",
    "    for j in components:\n",
    "        patch[i].data[j] = np.nan_to_num(patch[i].data[j],np.nanmin(patch[i].data[j]))\n",
    "        #print(j,\":\",patch[i].data[j].min(),\",\",patch[i].data[j].max())\n",
    "        print(j,\":\",patch[i].data[j].min()>=aq_values[j][0][0],\",\",patch[i].data[j].max()<aq_values[j][0][-1])"
   ]
  },
  {
   "cell_type": "code",
   "execution_count": null,
   "metadata": {},
   "outputs": [],
   "source": [
    "for i in components:\n",
    "    print(i,\":\",patch3.data[i].min()>aq_values[i][0][0],\",\",patch3.data[i].max()<aq_values[i][0][-1])"
   ]
  },
  {
   "cell_type": "code",
   "execution_count": 330,
   "metadata": {},
   "outputs": [],
   "source": [
    "def find_quality(satellite_value,component):\n",
    "    aq_values = {\"NO2\":[[-0.0005, 0.0045, 0.015, 0.02],0.01,\"mol/m2\"], \n",
    "    \"SO2\": [[-0.5,0.0593,0.625,2],0.35,\"DU\"],\n",
    "    \"O3\": [[0,0.05,0.10,0.175], 0.075, \"mol/m2\"],\n",
    "    \"CO\": [[0,0.04,0.06,0.1], 0.05, \"mol/m2\" ],\n",
    "    \"AER_AI_354_388\": [[-5,-1,1,5],0, \"Index Value\"]}\n",
    "    if(satellite_value>=aq_values[component][0][0] and satellite_value<aq_values[component][0][1]):\n",
    "        return 0\n",
    "    elif(satellite_value>aq_values[component][0][1] and satellite_value<aq_values[component][0][2]):\n",
    "        return 1\n",
    "    elif(satellite_value>aq_values[component][0][2] and satellite_value<aq_values[component][0][3]):\n",
    "        return 2\n",
    "    else:\n",
    "        return -1"
   ]
  },
  {
   "cell_type": "code",
   "execution_count": 331,
   "metadata": {},
   "outputs": [],
   "source": [
    "def aqi(patch):\n",
    "    calculated_values = {\"O3\":[],\"SO2\":[], \"NO2\":[], \"CO\":[], \"AER_AI_354_388\":[]}\n",
    "    for i in calculated_values:\n",
    "        patch.data[i] = np.nan_to_num(patch.data[i],np.nanmin(patch.data[i]))\n",
    "        quality_value_holder = []\n",
    "        for j in range(len(patch.timestamp)):\n",
    "            quality_value_holder += [find_quality(patch.data[i][j].max(),i)]\n",
    "        calculated_values[i] = quality_value_holder\n",
    "    return calculated_values"
   ]
  },
  {
   "cell_type": "code",
   "execution_count": 333,
   "metadata": {},
   "outputs": [],
   "source": [
    "delhi_aqi = aqi(patch[0])"
   ]
  },
  {
   "cell_type": "code",
   "execution_count": 334,
   "metadata": {},
   "outputs": [
    {
     "data": {
      "text/plain": [
       "{'O3': [2,\n",
       "  2,\n",
       "  2,\n",
       "  2,\n",
       "  2,\n",
       "  2,\n",
       "  2,\n",
       "  2,\n",
       "  2,\n",
       "  2,\n",
       "  2,\n",
       "  2,\n",
       "  2,\n",
       "  2,\n",
       "  2,\n",
       "  2,\n",
       "  2,\n",
       "  2,\n",
       "  2,\n",
       "  2,\n",
       "  2,\n",
       "  2,\n",
       "  2,\n",
       "  2,\n",
       "  2,\n",
       "  2,\n",
       "  2,\n",
       "  2,\n",
       "  2,\n",
       "  2,\n",
       "  2,\n",
       "  2,\n",
       "  2,\n",
       "  2,\n",
       "  2,\n",
       "  2,\n",
       "  2,\n",
       "  2,\n",
       "  2,\n",
       "  2,\n",
       "  2,\n",
       "  2,\n",
       "  2,\n",
       "  2,\n",
       "  2,\n",
       "  2,\n",
       "  2,\n",
       "  2,\n",
       "  0,\n",
       "  2,\n",
       "  2],\n",
       " 'SO2': [0,\n",
       "  0,\n",
       "  0,\n",
       "  0,\n",
       "  0,\n",
       "  0,\n",
       "  0,\n",
       "  0,\n",
       "  0,\n",
       "  0,\n",
       "  0,\n",
       "  0,\n",
       "  0,\n",
       "  0,\n",
       "  0,\n",
       "  0,\n",
       "  0,\n",
       "  0,\n",
       "  0,\n",
       "  0,\n",
       "  0,\n",
       "  0,\n",
       "  0,\n",
       "  0,\n",
       "  0,\n",
       "  0,\n",
       "  0,\n",
       "  0,\n",
       "  0,\n",
       "  0,\n",
       "  0,\n",
       "  0,\n",
       "  0,\n",
       "  0,\n",
       "  0,\n",
       "  0,\n",
       "  0,\n",
       "  0,\n",
       "  0,\n",
       "  0,\n",
       "  0,\n",
       "  0,\n",
       "  0,\n",
       "  0,\n",
       "  0,\n",
       "  0,\n",
       "  0,\n",
       "  0,\n",
       "  0,\n",
       "  0,\n",
       "  0],\n",
       " 'NO2': [0,\n",
       "  0,\n",
       "  0,\n",
       "  0,\n",
       "  0,\n",
       "  0,\n",
       "  0,\n",
       "  0,\n",
       "  0,\n",
       "  0,\n",
       "  0,\n",
       "  0,\n",
       "  0,\n",
       "  0,\n",
       "  0,\n",
       "  0,\n",
       "  0,\n",
       "  0,\n",
       "  0,\n",
       "  0,\n",
       "  0,\n",
       "  0,\n",
       "  0,\n",
       "  0,\n",
       "  0,\n",
       "  0,\n",
       "  0,\n",
       "  0,\n",
       "  0,\n",
       "  0,\n",
       "  0,\n",
       "  0,\n",
       "  0,\n",
       "  0,\n",
       "  0,\n",
       "  0,\n",
       "  0,\n",
       "  0,\n",
       "  0,\n",
       "  0,\n",
       "  0,\n",
       "  0,\n",
       "  0,\n",
       "  0,\n",
       "  0,\n",
       "  0,\n",
       "  0,\n",
       "  0,\n",
       "  0,\n",
       "  0,\n",
       "  0],\n",
       " 'CO': [1,\n",
       "  1,\n",
       "  1,\n",
       "  1,\n",
       "  0,\n",
       "  0,\n",
       "  1,\n",
       "  1,\n",
       "  1,\n",
       "  1,\n",
       "  2,\n",
       "  2,\n",
       "  1,\n",
       "  1,\n",
       "  1,\n",
       "  1,\n",
       "  1,\n",
       "  1,\n",
       "  1,\n",
       "  1,\n",
       "  0,\n",
       "  0,\n",
       "  2,\n",
       "  2,\n",
       "  2,\n",
       "  2,\n",
       "  2,\n",
       "  2,\n",
       "  2,\n",
       "  2,\n",
       "  0,\n",
       "  0,\n",
       "  0,\n",
       "  0,\n",
       "  2,\n",
       "  2,\n",
       "  1,\n",
       "  1,\n",
       "  2,\n",
       "  2,\n",
       "  0,\n",
       "  0,\n",
       "  1,\n",
       "  1,\n",
       "  1,\n",
       "  1,\n",
       "  0,\n",
       "  0,\n",
       "  0,\n",
       "  1,\n",
       "  1],\n",
       " 'AER_AI_354_388': [1,\n",
       "  1,\n",
       "  1,\n",
       "  1,\n",
       "  1,\n",
       "  1,\n",
       "  1,\n",
       "  1,\n",
       "  1,\n",
       "  1,\n",
       "  1,\n",
       "  1,\n",
       "  1,\n",
       "  1,\n",
       "  1,\n",
       "  1,\n",
       "  1,\n",
       "  1,\n",
       "  2,\n",
       "  2,\n",
       "  1,\n",
       "  1,\n",
       "  2,\n",
       "  2,\n",
       "  2,\n",
       "  2,\n",
       "  2,\n",
       "  2,\n",
       "  2,\n",
       "  2,\n",
       "  2,\n",
       "  2,\n",
       "  2,\n",
       "  2,\n",
       "  2,\n",
       "  2,\n",
       "  1,\n",
       "  1,\n",
       "  2,\n",
       "  2,\n",
       "  1,\n",
       "  1,\n",
       "  1,\n",
       "  1,\n",
       "  1,\n",
       "  1,\n",
       "  1,\n",
       "  1,\n",
       "  1,\n",
       "  1,\n",
       "  1]}"
      ]
     },
     "execution_count": 334,
     "metadata": {},
     "output_type": "execute_result"
    }
   ],
   "source": [
    "delhi_aqi"
   ]
  },
  {
   "cell_type": "code",
   "execution_count": null,
   "metadata": {},
   "outputs": [],
   "source": []
  }
 ],
 "metadata": {
  "accelerator": "GPU",
  "colab": {
   "name": "Air-pollution.ipynb",
   "provenance": []
  },
  "kernelspec": {
   "display_name": "conda_python3",
   "language": "python",
   "name": "conda_python3"
  },
  "language_info": {
   "codemirror_mode": {
    "name": "ipython",
    "version": 3
   },
   "file_extension": ".py",
   "mimetype": "text/x-python",
   "name": "python",
   "nbconvert_exporter": "python",
   "pygments_lexer": "ipython3",
   "version": "3.6.5"
  }
 },
 "nbformat": 4,
 "nbformat_minor": 4
}
