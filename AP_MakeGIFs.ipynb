{
 "cells": [
  {
   "cell_type": "code",
   "execution_count": 8,
   "metadata": {},
   "outputs": [
    {
     "name": "stdout",
     "output_type": "stream",
     "text": [
      "Collecting eo-learn\n",
      "Requirement already satisfied: eo-learn-visualization>=0.6.0 in /usr/local/lib/python3.6/site-packages (from eo-learn) (0.6.0)\n",
      "Requirement already satisfied: eo-learn-geometry>=0.6.0 in /usr/local/lib/python3.6/site-packages (from eo-learn) (0.6.0)\n",
      "Requirement already satisfied: eo-learn-io>=0.6.0 in /usr/local/lib/python3.6/site-packages (from eo-learn) (0.6.0)\n",
      "Requirement already satisfied: eo-learn-mask>=0.6.0 in /usr/local/lib/python3.6/site-packages (from eo-learn) (0.6.0)\n",
      "Requirement already satisfied: eo-learn-coregistration>=0.6.0 in /usr/local/lib/python3.6/site-packages (from eo-learn) (0.6.0)\n",
      "Requirement already satisfied: eo-learn-features>=0.6.0 in /usr/local/lib/python3.6/site-packages (from eo-learn) (0.6.0)\n",
      "Requirement already satisfied: eo-learn-ml-tools>=0.6.0 in /usr/local/lib/python3.6/site-packages (from eo-learn) (0.6.0)\n",
      "Requirement already satisfied: eo-learn-core>=0.6.0 in /usr/local/lib/python3.6/site-packages (from eo-learn) (0.6.0)\n",
      "Requirement already satisfied: graphviz>=0.10.1 in /usr/lib/python3.6/dist-packages (from eo-learn-visualization>=0.6.0->eo-learn) (0.10.1)\n",
      "Requirement already satisfied: jinja2 in /usr/lib64/python3.6/dist-packages (from eo-learn-visualization>=0.6.0->eo-learn) (2.10.3)\n",
      "Requirement already satisfied: matplotlib in /usr/lib64/python3.6/dist-packages (from eo-learn-visualization>=0.6.0->eo-learn) (3.1.1)\n",
      "Requirement already satisfied: pygments in /usr/lib64/python3.6/dist-packages (from eo-learn-visualization>=0.6.0->eo-learn) (2.4.2)\n",
      "Requirement already satisfied: pydot in /usr/local/lib/python3.6/site-packages (from eo-learn-visualization>=0.6.0->eo-learn) (1.4.1)\n",
      "Requirement already satisfied: scikit-image>=0.15.0 in /usr/lib64/python3.6/dist-packages (from eo-learn-geometry>=0.6.0->eo-learn) (0.15.0)\n",
      "Requirement already satisfied: descartes in /usr/local/lib/python3.6/site-packages (from eo-learn-geometry>=0.6.0->eo-learn) (1.1.0)\n",
      "Requirement already satisfied: geopandas in /usr/local/lib/python3.6/site-packages (from eo-learn-geometry>=0.6.0->eo-learn) (0.6.2)\n",
      "Requirement already satisfied: shapely in /usr/local/lib64/python3.6/site-packages (from eo-learn-geometry>=0.6.0->eo-learn) (1.6.4.post2)\n",
      "Requirement already satisfied: rasterio in /usr/local/lib64/python3.6/site-packages (from eo-learn-geometry>=0.6.0->eo-learn) (1.1.1)\n",
      "Requirement already satisfied: s2cloudless>=1.3.0 in /usr/local/lib/python3.6/site-packages (from eo-learn-mask>=0.6.0->eo-learn) (1.4.0)\n",
      "Requirement already satisfied: opencv-contrib-python-headless in /usr/local/lib64/python3.6/site-packages (from eo-learn-mask>=0.6.0->eo-learn) (4.1.2.30)\n",
      "Requirement already satisfied: thunder-registration in /usr/local/lib/python3.6/site-packages (from eo-learn-coregistration>=0.6.0->eo-learn) (1.0.1)\n",
      "Requirement already satisfied: scikit-learn in /usr/lib64/python3.6/dist-packages (from eo-learn-features>=0.6.0->eo-learn) (0.20.2)\n",
      "Requirement already satisfied: python-dateutil in /usr/lib/python3.6/dist-packages (from eo-learn-features>=0.6.0->eo-learn) (2.8.0)\n",
      "Requirement already satisfied: numpy in /usr/lib64/python3.6/dist-packages (from eo-learn-features>=0.6.0->eo-learn) (1.17.3)\n",
      "Requirement already satisfied: scipy in /usr/lib64/python3.6/dist-packages (from eo-learn-features>=0.6.0->eo-learn) (1.3.1)\n",
      "Requirement already satisfied: numba>=0.43.1 in /usr/local/lib64/python3.6/site-packages (from eo-learn-features>=0.6.0->eo-learn) (0.46.0)\n",
      "Requirement already satisfied: pandas in /usr/lib64/python3.6/dist-packages (from eo-learn-ml-tools>=0.6.0->eo-learn) (0.24.2)\n",
      "Requirement already satisfied: seaborn in /usr/local/lib/python3.6/site-packages (from eo-learn-ml-tools>=0.6.0->eo-learn) (0.9.0)\n",
      "Requirement already satisfied: attrs>=18.2.0 in /usr/lib/python3.6/dist-packages (from eo-learn-core>=0.6.0->eo-learn) (19.3.0)\n",
      "Requirement already satisfied: sentinelhub>=2.5.0 in /usr/local/lib/python3.6/site-packages (from eo-learn-core>=0.6.0->eo-learn) (2.6.1)\n",
      "Requirement already satisfied: tqdm>=4.27 in /usr/local/lib/python3.6/site-packages (from eo-learn-core>=0.6.0->eo-learn) (4.40.0)\n",
      "Requirement already satisfied: MarkupSafe>=0.23 in /usr/lib64/python3.6/dist-packages (from jinja2->eo-learn-visualization>=0.6.0->eo-learn) (1.1.1)\n",
      "Requirement already satisfied: pyparsing!=2.0.4,!=2.1.2,!=2.1.6,>=2.0.1 in /usr/lib/python3.6/dist-packages (from matplotlib->eo-learn-visualization>=0.6.0->eo-learn) (2.4.2)\n",
      "Requirement already satisfied: kiwisolver>=1.0.1 in /usr/lib64/python3.6/dist-packages (from matplotlib->eo-learn-visualization>=0.6.0->eo-learn) (1.1.0)\n",
      "Requirement already satisfied: cycler>=0.10 in /usr/lib/python3.6/dist-packages (from matplotlib->eo-learn-visualization>=0.6.0->eo-learn) (0.10.0)\n",
      "Requirement already satisfied: PyWavelets>=0.4.0 in /usr/lib64/python3.6/dist-packages (from scikit-image>=0.15.0->eo-learn-geometry>=0.6.0->eo-learn) (1.1.1)\n",
      "Requirement already satisfied: pillow>=4.3.0 in /usr/lib64/python3.6/dist-packages (from scikit-image>=0.15.0->eo-learn-geometry>=0.6.0->eo-learn) (6.2.1)\n",
      "Requirement already satisfied: imageio>=2.0.1 in /usr/lib/python3.6/dist-packages (from scikit-image>=0.15.0->eo-learn-geometry>=0.6.0->eo-learn) (2.6.1)\n",
      "Requirement already satisfied: networkx>=2.0 in /usr/lib/python3.6/dist-packages (from scikit-image>=0.15.0->eo-learn-geometry>=0.6.0->eo-learn) (2.4)\n",
      "Requirement already satisfied: pyproj in /usr/local/lib64/python3.6/site-packages (from geopandas->eo-learn-geometry>=0.6.0->eo-learn) (2.4.2.post1)\n",
      "Requirement already satisfied: fiona in /usr/local/lib64/python3.6/site-packages (from geopandas->eo-learn-geometry>=0.6.0->eo-learn) (1.8.12)\n",
      "Requirement already satisfied: click<8,>=4.0 in /usr/local/lib64/python3.6/site-packages (from rasterio->eo-learn-geometry>=0.6.0->eo-learn) (7.0)\n",
      "Requirement already satisfied: click-plugins in /usr/local/lib/python3.6/site-packages (from rasterio->eo-learn-geometry>=0.6.0->eo-learn) (1.1.1)\n",
      "Requirement already satisfied: affine in /usr/local/lib/python3.6/site-packages (from rasterio->eo-learn-geometry>=0.6.0->eo-learn) (2.3.0)\n",
      "Requirement already satisfied: cligj>=0.5 in /usr/local/lib/python3.6/site-packages (from rasterio->eo-learn-geometry>=0.6.0->eo-learn) (0.5.0)\n",
      "Requirement already satisfied: snuggs>=1.4.1 in /usr/local/lib/python3.6/site-packages (from rasterio->eo-learn-geometry>=0.6.0->eo-learn) (1.4.7)\n",
      "Requirement already satisfied: lightgbm>=2.0.11 in /usr/local/lib/python3.6/site-packages (from s2cloudless>=1.3.0->eo-learn-mask>=0.6.0->eo-learn) (2.3.1)\n",
      "Requirement already satisfied: thunder-python>=1.2.0 in /usr/local/lib/python3.6/site-packages (from thunder-registration->eo-learn-coregistration>=0.6.0->eo-learn) (1.4.2)\n",
      "Requirement already satisfied: six>=1.5 in /usr/lib/python3.6/dist-packages (from python-dateutil->eo-learn-features>=0.6.0->eo-learn) (1.12.0)\n",
      "Requirement already satisfied: llvmlite>=0.30.0dev0 in /usr/local/lib64/python3.6/site-packages (from numba>=0.43.1->eo-learn-features>=0.6.0->eo-learn) (0.30.0)\n",
      "Requirement already satisfied: pytz>=2011k in /usr/lib/python3.6/dist-packages (from pandas->eo-learn-ml-tools>=0.6.0->eo-learn) (2019.3)\n",
      "Requirement already satisfied: utm in /usr/local/lib/python3.6/site-packages (from sentinelhub>=2.5.0->eo-learn-core>=0.6.0->eo-learn) (0.5.0)\n",
      "Requirement already satisfied: aenum>=2.1.4 in /usr/local/lib/python3.6/site-packages (from sentinelhub>=2.5.0->eo-learn-core>=0.6.0->eo-learn) (2.2.3)\n",
      "Requirement already satisfied: botocore in /usr/lib/python3.6/dist-packages (from sentinelhub>=2.5.0->eo-learn-core>=0.6.0->eo-learn) (1.12.66)\n",
      "Requirement already satisfied: requests in /usr/lib/python3.6/dist-packages (from sentinelhub>=2.5.0->eo-learn-core>=0.6.0->eo-learn) (2.20.0)\n",
      "Requirement already satisfied: tifffile in /usr/local/lib/python3.6/site-packages (from sentinelhub>=2.5.0->eo-learn-core>=0.6.0->eo-learn) (2019.7.26.2)\n",
      "Requirement already satisfied: wheel in /usr/lib/python3.6/dist-packages (from sentinelhub>=2.5.0->eo-learn-core>=0.6.0->eo-learn) (0.32.3)\n",
      "Requirement already satisfied: boto3 in /usr/lib/python3.6/dist-packages (from sentinelhub>=2.5.0->eo-learn-core>=0.6.0->eo-learn) (1.9.72)\n",
      "Requirement already satisfied: setuptools in /usr/lib/python3.6/dist-packages (from kiwisolver>=1.0.1->matplotlib->eo-learn-visualization>=0.6.0->eo-learn) (41.5.0)\n",
      "Requirement already satisfied: decorator>=4.3.0 in /usr/lib/python3.6/dist-packages (from networkx>=2.0->scikit-image>=0.15.0->eo-learn-geometry>=0.6.0->eo-learn) (4.4.1)\n",
      "Requirement already satisfied: munch in /usr/local/lib/python3.6/site-packages (from fiona->geopandas->eo-learn-geometry>=0.6.0->eo-learn) (2.5.0)\n",
      "Requirement already satisfied: boto>=2.36.0 in /usr/lib/python3.6/dist-packages (from thunder-python>=1.2.0->thunder-registration->eo-learn-coregistration>=0.6.0->eo-learn) (2.49.0)\n",
      "Requirement already satisfied: bolt-python>=0.7.0 in /usr/local/lib/python3.6/site-packages (from thunder-python>=1.2.0->thunder-registration->eo-learn-coregistration>=0.6.0->eo-learn) (0.7.1)\n",
      "Requirement already satisfied: urllib3<1.25,>=1.20; python_version >= \"3.4\" in /usr/lib/python3.6/dist-packages (from botocore->sentinelhub>=2.5.0->eo-learn-core>=0.6.0->eo-learn) (1.24.3)\n",
      "Requirement already satisfied: docutils>=0.10 in /usr/lib/python3.6/dist-packages (from botocore->sentinelhub>=2.5.0->eo-learn-core>=0.6.0->eo-learn) (0.15.2)\n",
      "Requirement already satisfied: jmespath<1.0.0,>=0.7.1 in /usr/lib/python3.6/dist-packages (from botocore->sentinelhub>=2.5.0->eo-learn-core>=0.6.0->eo-learn) (0.9.4)\n",
      "Requirement already satisfied: idna<2.8,>=2.5 in /usr/lib/python3.6/dist-packages (from requests->sentinelhub>=2.5.0->eo-learn-core>=0.6.0->eo-learn) (2.7)\n",
      "Requirement already satisfied: certifi>=2017.4.17 in /usr/lib/python3.6/dist-packages (from requests->sentinelhub>=2.5.0->eo-learn-core>=0.6.0->eo-learn) (2019.9.11)\n",
      "Requirement already satisfied: chardet<3.1.0,>=3.0.2 in /usr/lib/python3.6/dist-packages (from requests->sentinelhub>=2.5.0->eo-learn-core>=0.6.0->eo-learn) (3.0.4)\n",
      "Requirement already satisfied: imagecodecs-lite>=2019.12.2; platform_system != \"Windows\" in /usr/local/lib64/python3.6/site-packages (from tifffile->sentinelhub>=2.5.0->eo-learn-core>=0.6.0->eo-learn) (2019.12.3)\n",
      "Requirement already satisfied: s3transfer<0.2.0,>=0.1.10 in /usr/lib/python3.6/dist-packages (from boto3->sentinelhub>=2.5.0->eo-learn-core>=0.6.0->eo-learn) (0.1.13)\n",
      "Installing collected packages: eo-learn\n",
      "Successfully installed eo-learn-0.6.0\n",
      "\u001b[33mYou are using pip version 19.0.2, however version 19.3.1 is available.\n",
      "You should consider upgrading via the 'pip install --upgrade pip' command.\u001b[0m\n"
     ]
    }
   ],
   "source": [
    "!sudo pip3 install eo-learn"
   ]
  },
  {
   "cell_type": "code",
   "execution_count": 9,
   "metadata": {},
   "outputs": [
    {
     "ename": "ModuleNotFoundError",
     "evalue": "No module named 'eolearn.io'",
     "output_type": "error",
     "traceback": [
      "\u001b[0;31m---------------------------------------------------------------------------\u001b[0m",
      "\u001b[0;31mModuleNotFoundError\u001b[0m                       Traceback (most recent call last)",
      "\u001b[0;32m<ipython-input-9-16a03b09fed6>\u001b[0m in \u001b[0;36m<module>\u001b[0;34m()\u001b[0m\n\u001b[0;32m----> 1\u001b[0;31m \u001b[0;32mfrom\u001b[0m \u001b[0mhelper\u001b[0m \u001b[0;32mimport\u001b[0m \u001b[0;34m*\u001b[0m\u001b[0;34m\u001b[0m\u001b[0m\n\u001b[0m",
      "\u001b[0;32m~/SageMaker/helper.py\u001b[0m in \u001b[0;36m<module>\u001b[0;34m()\u001b[0m\n\u001b[1;32m      1\u001b[0m \u001b[0;32mfrom\u001b[0m \u001b[0meolearn\u001b[0m\u001b[0;34m.\u001b[0m\u001b[0mcore\u001b[0m \u001b[0;32mimport\u001b[0m \u001b[0mEOTask\u001b[0m\u001b[0;34m,\u001b[0m \u001b[0mEOPatch\u001b[0m\u001b[0;34m,\u001b[0m \u001b[0mLinearWorkflow\u001b[0m\u001b[0;34m,\u001b[0m \u001b[0mDependency\u001b[0m\u001b[0;34m,\u001b[0m \u001b[0mFeatureType\u001b[0m\u001b[0;34m\u001b[0m\u001b[0m\n\u001b[1;32m      2\u001b[0m \u001b[0;32mfrom\u001b[0m \u001b[0meolearn\u001b[0m\u001b[0;34m.\u001b[0m\u001b[0mcore\u001b[0m \u001b[0;32mimport\u001b[0m \u001b[0mOverwritePermission\u001b[0m\u001b[0;34m\u001b[0m\u001b[0m\n\u001b[0;32m----> 3\u001b[0;31m \u001b[0;32mfrom\u001b[0m \u001b[0meolearn\u001b[0m\u001b[0;34m.\u001b[0m\u001b[0mio\u001b[0m \u001b[0;32mimport\u001b[0m \u001b[0mS2L1CWCSInput\u001b[0m\u001b[0;34m,\u001b[0m \u001b[0mSentinelHubWCSInput\u001b[0m\u001b[0;34m,\u001b[0m \u001b[0mSentinelHubOGCInput\u001b[0m\u001b[0;34m\u001b[0m\u001b[0m\n\u001b[0m\u001b[1;32m      4\u001b[0m \u001b[0;32mfrom\u001b[0m \u001b[0meolearn\u001b[0m\u001b[0;34m.\u001b[0m\u001b[0mcore\u001b[0m \u001b[0;32mimport\u001b[0m \u001b[0mLoadFromDisk\u001b[0m\u001b[0;34m,\u001b[0m \u001b[0mSaveToDisk\u001b[0m\u001b[0;34m\u001b[0m\u001b[0m\n\u001b[1;32m      5\u001b[0m \u001b[0;34m\u001b[0m\u001b[0m\n",
      "\u001b[0;31mModuleNotFoundError\u001b[0m: No module named 'eolearn.io'"
     ]
    }
   ],
   "source": [
    "from helper import *"
   ]
  },
  {
   "cell_type": "code",
   "execution_count": 2,
   "metadata": {},
   "outputs": [],
   "source": [
    "chennai_outline = gpd.read_file(\"https://raw.githubusercontent.com/gok03/eo-learn-5p-support/master/chennai.geojson\")\n",
    "delhi_outline = gpd.read_file(\"https://raw.githubusercontent.com/gok03/eo-learn-5p-support/master/delhi.geojson\")\n",
    "hyderbad_outline = gpd.read_file(\"https://raw.githubusercontent.com/gok03/eo-learn-5p-support/master/hyderabad.geojson\")\n",
    "kolkata_outline = gpd.read_file(\"https://raw.githubusercontent.com/gok03/eo-learn-5p-support/master/kolkata.geojson\")\n",
    "mumbai_outline = gpd.read_file(\"https://raw.githubusercontent.com/gok03/eo-learn-5p-support/master/mumbai.geojson\")\n",
    "bangalore_outline = gpd.read_file(\"https://raw.githubusercontent.com/gok03/eo-learn-5p-support/master/bangalore.geojson\")"
   ]
  },
  {
   "cell_type": "code",
   "execution_count": 3,
   "metadata": {},
   "outputs": [],
   "source": [
    "components = [\"O3\",\"SO2\", \"CH4\", \"NO2\", \"HCHO\", \"CO\", \"AER_AI_354_388\"]"
   ]
  },
  {
   "cell_type": "code",
   "execution_count": 5,
   "metadata": {},
   "outputs": [],
   "source": [
    "cities = {\"chennai\":chennai_outline,\"delhi\":delhi_outline,\"hyderabad\":hyderbad_outline,\"kolkata\":kolkata_outline,\"mumbai\":mumbai_outline,\"bangalore\":bangalore_outline}"
   ]
  },
  {
   "cell_type": "code",
   "execution_count": 6,
   "metadata": {},
   "outputs": [],
   "source": [
    "cities_list = [\"chennai\",\"delhi\",\"hyderabad\",\"kolkata\",\"mumbai\",\"bangalore\"]"
   ]
  },
  {
   "cell_type": "code",
   "execution_count": 13,
   "metadata": {},
   "outputs": [
    {
     "name": "stderr",
     "output_type": "stream",
     "text": [
      "/home/ec2-user/anaconda3/envs/python3/lib/python3.6/site-packages/matplotlib/pyplot.py:514: RuntimeWarning: More than 20 figures have been opened. Figures created through the pyplot interface (`matplotlib.pyplot.figure`) are retained until explicitly closed and may consume too much memory. (To control this warning, see the rcParam `figure.max_open_warning`).\n",
      "  max_open_warning, RuntimeWarning)\n"
     ]
    }
   ],
   "source": [
    "for i in [cities_list[2]]:\n",
    "    outline_bbox = get_bbox(cities[i])\n",
    "    patch = EOPatch.load(\"eo-learn-5p-support/patch/patches-\"+i+\"-data\")\n",
    "    if not os.path.exists(\"eo-learn-5p-support/export_data/\"+i+\"/\"):\n",
    "        os.makedirs(\"eo-learn-5p-support/export_data/\"+i+\"/\")\n",
    "        os.makedirs(\"eo-learn-5p-support/export_data/\"+i+\"/gif/\")\n",
    "    for j in components:\n",
    "        if not os.path.exists(\"eo-learn-5p-support/export_data/\"+i+\"/\"):\n",
    "            os.makedirs(\"eo-learn-5p-support/export_data/\"+i+\"/\")\n",
    "        files = []\n",
    "        for k in range(len(patch.timestamp)):\n",
    "        #for k in range(0,5):\n",
    "            if not os.path.exists(\"eo-learn-5p-support/export_data/\"+i+\"/\"+j+\"/\"):\n",
    "                os.makedirs(\"eo-learn-5p-support/export_data/\"+i+\"/\"+j+\"/\")\n",
    "            path = \"eo-learn-5p-support/export_data/\"+i+\"/\"+j+\"/\"+str(k)+\".png\"\n",
    "            #print(path)\n",
    "            file = plot_with_data_save(patch,j,outline_bbox,k,5,path)\n",
    "            files+= [file]\n",
    "        images = []\n",
    "        for filename in files:\n",
    "            images.append(imageio.imread(filename))\n",
    "        imageio.mimsave(\"eo-learn-5p-support/export_data/\"+str(i)+\"/gif/\"+j+\".gif\", images,duration=0.5)"
   ]
  },
  {
   "cell_type": "code",
   "execution_count": null,
   "metadata": {},
   "outputs": [],
   "source": []
  },
  {
   "cell_type": "code",
   "execution_count": null,
   "metadata": {},
   "outputs": [],
   "source": []
  }
 ],
 "metadata": {
  "kernelspec": {
   "display_name": "conda_python3",
   "language": "python",
   "name": "conda_python3"
  },
  "language_info": {
   "codemirror_mode": {
    "name": "ipython",
    "version": 3
   },
   "file_extension": ".py",
   "mimetype": "text/x-python",
   "name": "python",
   "nbconvert_exporter": "python",
   "pygments_lexer": "ipython3",
   "version": "3.6.5"
  }
 },
 "nbformat": 4,
 "nbformat_minor": 4
}
