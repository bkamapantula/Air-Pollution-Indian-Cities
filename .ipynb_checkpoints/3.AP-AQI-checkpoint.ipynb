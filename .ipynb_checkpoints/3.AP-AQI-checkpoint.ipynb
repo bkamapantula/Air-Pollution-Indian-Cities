{
 "cells": [
  {
   "cell_type": "code",
   "execution_count": 13,
   "metadata": {},
   "outputs": [],
   "source": [
    "#!pip install sentinelhub\n",
    "#!pip install geopandas\n",
    "#!sudo pip3 install eo-learn"
   ]
  },
  {
   "cell_type": "code",
   "execution_count": 1,
   "metadata": {},
   "outputs": [
    {
     "name": "stderr",
     "output_type": "stream",
     "text": [
      "/home/ec2-user/anaconda3/envs/python3/lib/python3.6/site-packages/pyproj/crs.py:77: FutureWarning: '+init=<authority>:<code>' syntax is deprecated. '<authority>:<code>' is the preferred initialization method.\n",
      "  return _prepare_from_string(\" \".join(pjargs))\n",
      "/home/ec2-user/anaconda3/envs/python3/lib/python3.6/site-packages/pyproj/crs.py:77: FutureWarning: '+init=<authority>:<code>' syntax is deprecated. '<authority>:<code>' is the preferred initialization method.\n",
      "  return _prepare_from_string(\" \".join(pjargs))\n"
     ]
    }
   ],
   "source": [
    "from helper import *"
   ]
  },
  {
   "cell_type": "code",
   "execution_count": 2,
   "metadata": {
    "colab": {},
    "colab_type": "code",
    "id": "4mDSufAYz14g"
   },
   "outputs": [],
   "source": [
    "o3 = S5PL2CWCSInput('O3', resx='1000m', resy='1000m', maxcc=1,instance_id=\"73f6b3e5-903b-4689-a1d1-7fbb6918d811\")\n",
    "so2 = S5PL2CWCSInput('SO2', resx='1000m', resy='1000m', maxcc=0.5,instance_id=\"73f6b3e5-903b-4689-a1d1-7fbb6918d811\")\n",
    "no2 = S5PL2CWCSInput('NO2', resx='1000m', resy='1000m', maxcc=0.5,instance_id=\"73f6b3e5-903b-4689-a1d1-7fbb6918d811\")\n",
    "co = S5PL2CWCSInput('CO', resx='1000m', resy='1000m', maxcc=0.5,instance_id=\"73f6b3e5-903b-4689-a1d1-7fbb6918d811\")\n",
    "aero = S5PL2CWCSInput('AER_AI_354_388', resx='1000m', resy='1000m', maxcc=0.5,instance_id=\"73f6b3e5-903b-4689-a1d1-7fbb6918d811\")"
   ]
  },
  {
   "cell_type": "code",
   "execution_count": 3,
   "metadata": {},
   "outputs": [],
   "source": [
    "components = [\"O3\", \"SO2\", \"NO2\", \"CO\", \"AER_AI_354_388\"]"
   ]
  },
  {
   "cell_type": "code",
   "execution_count": 4,
   "metadata": {
    "colab": {},
    "colab_type": "code",
    "id": "rm-JIXhcz14j"
   },
   "outputs": [],
   "source": [
    "time_interval = ['2019-10-20','2019-11-10']"
   ]
  },
  {
   "cell_type": "code",
   "execution_count": 5,
   "metadata": {
    "colab": {},
    "colab_type": "code",
    "id": "2BfGf211z14n"
   },
   "outputs": [],
   "source": [
    "workflow = LinearWorkflow(o3,so2,no2,co,aero)"
   ]
  },
  {
   "cell_type": "code",
   "execution_count": 6,
   "metadata": {
    "colab": {},
    "colab_type": "code",
    "id": "D6sGTHZDz14q"
   },
   "outputs": [],
   "source": [
    "chennai_outline = gpd.read_file(\"https://raw.githubusercontent.com/gok03/eo-learn-5p-support/master/chennai.geojson\")\n",
    "delhi_outline = gpd.read_file(\"https://raw.githubusercontent.com/gok03/eo-learn-5p-support/master/delhi.geojson\")\n",
    "hyderbad_outline = gpd.read_file(\"https://raw.githubusercontent.com/gok03/eo-learn-5p-support/master/hyderabad.geojson\")\n",
    "kolkata_outline = gpd.read_file(\"https://raw.githubusercontent.com/gok03/eo-learn-5p-support/master/kolkata.geojson\")\n",
    "mumbai_outline = gpd.read_file(\"https://raw.githubusercontent.com/gok03/eo-learn-5p-support/master/mumbai.geojson\")\n",
    "bangalore_outline = gpd.read_file(\"https://raw.githubusercontent.com/gok03/eo-learn-5p-support/master/bangalore.geojson\")"
   ]
  },
  {
   "cell_type": "code",
   "execution_count": 7,
   "metadata": {},
   "outputs": [],
   "source": [
    "#outline_bbox = get_bbox(delhi_outline)"
   ]
  },
  {
   "cell_type": "code",
   "execution_count": 8,
   "metadata": {},
   "outputs": [],
   "source": [
    "# result = workflow.execute({o3: {'bbox': outline_bbox, 'time_interval': time_interval}})\n",
    "# patch = list(result.values())[-1]\n",
    "# patch.save('patch/patches-delhi-data', overwrite_permission=OverwritePermission.OVERWRITE_FEATURES)"
   ]
  },
  {
   "cell_type": "code",
   "execution_count": 9,
   "metadata": {},
   "outputs": [],
   "source": [
    "patch = {}\n",
    "patch[\"delhi\"] = EOPatch.load(\"patch/patches-delhi-data\")\n",
    "patch[\"hyderabad\"] = EOPatch.load(\"patch/patches-hyderabad-data\")\n",
    "patch[\"chennai\"] = EOPatch.load(\"patch/patches-chennai-data\")\n",
    "patch[\"bangalore\"] = EOPatch.load(\"patch/patches-bangalore-data\")\n",
    "patch[\"kolkata\"] = EOPatch.load(\"patch/patches-kolkata-data\")\n",
    "patch[\"mumbai\"] = EOPatch.load(\"patch/patches-mumbai-data\")"
   ]
  },
  {
   "cell_type": "code",
   "execution_count": null,
   "metadata": {},
   "outputs": [],
   "source": [
    "aq_values = {\"NO2\":[[-0.0005, 0.0045, 0.015, 0.02],0.01,\"mol/m2\"], \n",
    "    \"SO2\": [[-0.5,0.0593,0.625,2],0.35,\"DU\"],\n",
    "    \"O3\": [[0,0.0675,0.135,0.27], 0.075, \"mol/m2\"],\n",
    "    \"CO\": [[0,0.0675,0.135,0.27], 0.05, \"mol/m2\" ],\n",
    "    \"AER_AI_354_388\": [[-5,-1,1,5],0, \"Index Value\"]}"
   ]
  },
  {
   "cell_type": "code",
   "execution_count": 10,
   "metadata": {},
   "outputs": [
    {
     "data": {
      "image/png": "[encoded data removed]",
      "text/plain": [
       "<Figure size 720x360 with 5 Axes>"
      ]
     },
     "metadata": {},
     "output_type": "display_data"
    }
   ],
   "source": [
    "current_patch = patch[\"delhi\"]\n",
    "aqi_for_patch(current_patch)"
   ]
  },
  {
   "cell_type": "code",
   "execution_count": 11,
   "metadata": {},
   "outputs": [
    {
     "data": {
      "text/plain": [
       "[(0, '2019-10-20'),\n",
       " (1, '2019-10-20'),\n",
       " (2, '2019-10-21'),\n",
       " (3, '2019-10-21'),\n",
       " (4, '2019-10-22'),\n",
       " (5, '2019-10-22'),\n",
       " (6, '2019-10-23'),\n",
       " (7, '2019-10-23'),\n",
       " (8, '2019-10-23'),\n",
       " (9, '2019-10-23'),\n",
       " (10, '2019-10-24'),\n",
       " (11, '2019-10-24'),\n",
       " (12, '2019-10-25'),\n",
       " (13, '2019-10-25'),\n",
       " (14, '2019-10-26')]"
      ]
     },
     "execution_count": 11,
     "metadata": {},
     "output_type": "execute_result"
    }
   ],
   "source": [
    "[(i,str(current_patch.timestamp[i].date())) for i in range(len(current_patch.timestamp))][:15]"
   ]
  },
  {
   "cell_type": "code",
   "execution_count": 12,
   "metadata": {},
   "outputs": [
    {
     "data": {
      "text/html": [
       "<style> table {width: 100% !important; } </style> <table> <tr> <td><div style=\"background-color: yellow; padding: 10px;\"><center>Ozone Concentration is Moderate</center></div><br/><div style=\"background-color: green; padding: 10px;\"><center>Sulfur dioxide Concentration is Good</center></div><br/><div style=\"background-color: green; padding: 10px;\"><center>Nitrogen dioxide Concentration is Good</center></div><br/><div style=\"background-color: green; padding: 10px;\"><center>Carbon monoxide Concentration is Good</center></div><br/><div style=\"background-color: yellow; padding: 10px;\"><center>Aerosol Concentration is Moderate</center></div><br/></td> <td style=\"background-color: yellow; padding: 10px;\"><center><h1>Overall Air Quality is Moderate</h1></center></div><br/>"
      ],
      "text/plain": [
       "<IPython.core.display.HTML object>"
      ]
     },
     "metadata": {},
     "output_type": "display_data"
    }
   ],
   "source": [
    "aqi_for_patch_for_date(current_patch,14)"
   ]
  },
  {
   "cell_type": "code",
   "execution_count": null,
   "metadata": {},
   "outputs": [],
   "source": []
  }
 ],
 "metadata": {
  "accelerator": "GPU",
  "colab": {
   "name": "Air-pollution.ipynb",
   "provenance": []
  },
  "kernelspec": {
   "display_name": "conda_python3",
   "language": "python",
   "name": "conda_python3"
  },
  "language_info": {
   "codemirror_mode": {
    "name": "ipython",
    "version": 3
   },
   "file_extension": ".py",
   "mimetype": "text/x-python",
   "name": "python",
   "nbconvert_exporter": "python",
   "pygments_lexer": "ipython3",
   "version": "3.6.5"
  }
 },
 "nbformat": 4,
 "nbformat_minor": 4
}
