{
 "cells": [
  {
   "cell_type": "code",
   "execution_count": 2,
   "metadata": {},
   "outputs": [
    {
     "name": "stderr",
     "output_type": "stream",
     "text": [
      "/home/ec2-user/anaconda3/envs/python3/lib/python3.6/site-packages/pyproj/crs.py:77: FutureWarning: '+init=<authority>:<code>' syntax is deprecated. '<authority>:<code>' is the preferred initialization method.\n",
      "  return _prepare_from_string(\" \".join(pjargs))\n",
      "/home/ec2-user/anaconda3/envs/python3/lib/python3.6/site-packages/pyproj/crs.py:77: FutureWarning: '+init=<authority>:<code>' syntax is deprecated. '<authority>:<code>' is the preferred initialization method.\n",
      "  return _prepare_from_string(\" \".join(pjargs))\n"
     ]
    }
   ],
   "source": [
    "from helper import *"
   ]
  },
  {
   "cell_type": "code",
   "execution_count": 2,
   "metadata": {},
   "outputs": [],
   "source": [
    "chennai_outline = gpd.read_file(\"https://raw.githubusercontent.com/gok03/eo-learn-5p-support/master/chennai.geojson\")\n",
    "delhi_outline = gpd.read_file(\"https://raw.githubusercontent.com/gok03/eo-learn-5p-support/master/delhi.geojson\")\n",
    "hyderbad_outline = gpd.read_file(\"https://raw.githubusercontent.com/gok03/eo-learn-5p-support/master/hyderabad.geojson\")\n",
    "kolkata_outline = gpd.read_file(\"https://raw.githubusercontent.com/gok03/eo-learn-5p-support/master/kolkata.geojson\")\n",
    "mumbai_outline = gpd.read_file(\"https://raw.githubusercontent.com/gok03/eo-learn-5p-support/master/mumbai.geojson\")\n",
    "bangalore_outline = gpd.read_file(\"https://raw.githubusercontent.com/gok03/eo-learn-5p-support/master/bangalore.geojson\")"
   ]
  },
  {
   "cell_type": "code",
   "execution_count": 3,
   "metadata": {},
   "outputs": [],
   "source": [
    "components = [\"O3\", \"SO2\", \"NO2\", \"CO\", \"AER_AI_354_388\"]"
   ]
  },
  {
   "cell_type": "code",
   "execution_count": 5,
   "metadata": {},
   "outputs": [],
   "source": [
    "cities = {\"chennai\":chennai_outline,\"delhi\":delhi_outline,\"hyderabad\":hyderbad_outline,\"kolkata\":kolkata_outline,\"mumbai\":mumbai_outline,\"bangalore\":bangalore_outline}"
   ]
  },
  {
   "cell_type": "code",
   "execution_count": 6,
   "metadata": {},
   "outputs": [],
   "source": [
    "cities_list = [\"chennai\",\"delhi\",\"hyderabad\",\"kolkata\",\"mumbai\",\"bangalore\"]"
   ]
  },
  {
   "cell_type": "code",
   "execution_count": 13,
   "metadata": {},
   "outputs": [
    {
     "name": "stderr",
     "output_type": "stream",
     "text": [
      "/home/ec2-user/anaconda3/envs/python3/lib/python3.6/site-packages/matplotlib/pyplot.py:514: RuntimeWarning: More than 20 figures have been opened. Figures created through the pyplot interface (`matplotlib.pyplot.figure`) are retained until explicitly closed and may consume too much memory. (To control this warning, see the rcParam `figure.max_open_warning`).\n",
      "  max_open_warning, RuntimeWarning)\n"
     ]
    }
   ],
   "source": [
    "for i in [cities_list[2]]:\n",
    "    outline_bbox = get_bbox(cities[i])\n",
    "    patch = EOPatch.load(\"patch/patches-\"+i+\"-data\")\n",
    "    if not os.path.exists(\"export_data/\"+i+\"/\"):\n",
    "        os.makedirs(\"export_data/\"+i+\"/\")\n",
    "        os.makedirs(\"export_data/\"+i+\"/gif/\")\n",
    "    for j in components:\n",
    "        if not os.path.exists(\"export_data/\"+i+\"/\"):\n",
    "            os.makedirs(\"export_data/\"+i+\"/\")\n",
    "        files = []\n",
    "        for k in range(len(patch.timestamp)):\n",
    "        #for k in range(0,5):\n",
    "            if not os.path.exists(\"export_data/\"+i+\"/\"+j+\"/\"):\n",
    "                os.makedirs(\"export_data/\"+i+\"/\"+j+\"/\")\n",
    "            path = \"export_data/\"+i+\"/\"+j+\"/\"+str(k)+\".png\"\n",
    "            #print(path)\n",
    "            file = plot_with_data_save(patch,j,outline_bbox,k,5,path)\n",
    "            files+= [file]\n",
    "        images = []\n",
    "        for filename in files:\n",
    "            images.append(imageio.imread(filename))\n",
    "        imageio.mimsave(\"eo-learn-5p-support/export_data/\"+str(i)+\"/gif/\"+j+\".gif\", images,duration=0.5)"
   ]
  },
  {
   "cell_type": "code",
   "execution_count": null,
   "metadata": {},
   "outputs": [],
   "source": []
  }
 ],
 "metadata": {
  "kernelspec": {
   "display_name": "conda_python3",
   "language": "python",
   "name": "conda_python3"
  },
  "language_info": {
   "codemirror_mode": {
    "name": "ipython",
    "version": 3
   },
   "file_extension": ".py",
   "mimetype": "text/x-python",
   "name": "python",
   "nbconvert_exporter": "python",
   "pygments_lexer": "ipython3",
   "version": "3.6.5"
  }
 },
 "nbformat": 4,
 "nbformat_minor": 4
}
